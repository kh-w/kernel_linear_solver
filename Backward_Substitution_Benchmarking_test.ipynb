{
 "cells": [
  {
   "cell_type": "code",
   "execution_count": 2,
   "metadata": {
    "collapsed": true
   },
   "outputs": [],
   "source": [
    "from random import Random\n",
    "import numpy as np\n",
    "import time\n",
    "import math\n",
    "import scipy as sp\n",
    "\n",
    "import matplotlib.pyplot as plt\n",
    "from sklearn import gaussian_process\n",
    "from sklearn.gaussian_process.kernels import RBF"
   ]
  },
  {
   "cell_type": "code",
   "execution_count": 3,
   "metadata": {
    "collapsed": true
   },
   "outputs": [],
   "source": [
    "#####Setting environment\n",
    "#================================\n",
    "def generate_matrix(training_number):\n",
    "    x_train = np.array(np.linspace(0.01,1.0, training_number), dtype='float32').reshape(training_number, 1)\n",
    "    rbf= gaussian_process.kernels.RBF()\n",
    "    Kernel= rbf(x_train, x_train)\n",
    "    K_y = Kernel + np.eye(training_number) * 1e-8\n",
    "\n",
    "    x = np.ones((training_number,1), dtype = 'int')\n",
    "\n",
    "        #Generate y vector \n",
    "    y = K_y@x\n",
    "\n",
    "    #SVD:\n",
    "    U,S,Vh = np.linalg.svd(K_y)\n",
    "    c = U.T@y\n",
    "\n",
    "    #QR:\n",
    "    Q,R = np.linalg.qr(K_y)\n",
    "    p = Q.T@y\n",
    "    return R, p, S, c\n",
    "\n",
    "\n",
    "R_m = []\n",
    "p_m = []\n",
    "S_m = []\n",
    "c_m = []\n",
    "n_matrix = []\n",
    "for i in range(100, 1800, 50):\n",
    "    n_matrix.append(i)\n",
    "    R, p,S,c = generate_matrix(i)\n",
    "    R_m.append(R)\n",
    "    p_m.append(p)\n",
    "    S_m.append(S)\n",
    "    c_m.append(c)"
   ]
  },
  {
   "cell_type": "code",
   "execution_count": 4,
   "metadata": {
    "collapsed": true
   },
   "outputs": [],
   "source": [
    "def back_substitute(A, b):\n",
    "    n = b.size\n",
    "    x = np.zeros(b.shape)\n",
    "    \n",
    "    x[n-1] = b[n-1]/A[n-1,n-1]\n",
    "    for i in range(n-2,-1,-1):\n",
    "        x[i] = b[i]\n",
    "        u = A[i,i+1:n]\n",
    "        v = x[i+1:n]\n",
    "        dotproduct = np.dot(u,v)\n",
    "        x[i] -= dotproduct\n",
    "        x[i] = x[i]/A[i,i]\n",
    "    \n",
    "    return x\n",
    "\n",
    "def back_substitute2(A, b):\n",
    "    n = b.size\n",
    "    x = np.zeros(b.shape)\n",
    "    \n",
    "    x[n-1] = b[n-1]/A[n-1,n-1]\n",
    "    for i in range(n-2,-1,-1):\n",
    "        x[i] = b[i]\n",
    "        for j in range(i+1,n):\n",
    "            x[i] = x[i] - A[i,j]*x[j]\n",
    "        \n",
    "        x[i] = x[i]/A[i,i]\n",
    "    \n",
    "    return x\n",
    "\n",
    "def back_substitute_diag(A, b):\n",
    "    n = b.size\n",
    "    b_list = b.ravel()\n",
    "    x = b_list/A\n",
    "    \n",
    "    return x.reshape(n,1)\n"
   ]
  },
  {
   "cell_type": "code",
   "execution_count": 5,
   "metadata": {
    "collapsed": true
   },
   "outputs": [],
   "source": [
    "R, p,S,c = generate_matrix(30)"
   ]
  },
  {
   "cell_type": "code",
   "execution_count": 54,
   "metadata": {},
   "outputs": [
    {
     "name": "stdout",
     "output_type": "stream",
     "text": [
      "222 µs ± 22.3 µs per loop (mean ± std. dev. of 7 runs, 1000 loops each)\n"
     ]
    }
   ],
   "source": [
    "%timeit back_substitute(R, p)"
   ]
  },
  {
   "cell_type": "code",
   "execution_count": 55,
   "metadata": {},
   "outputs": [
    {
     "name": "stdout",
     "output_type": "stream",
     "text": [
      "1.45 ms ± 30.1 µs per loop (mean ± std. dev. of 7 runs, 1000 loops each)\n"
     ]
    }
   ],
   "source": [
    "%timeit back_substitute2(R, p)"
   ]
  },
  {
   "cell_type": "code",
   "execution_count": 56,
   "metadata": {},
   "outputs": [
    {
     "name": "stdout",
     "output_type": "stream",
     "text": [
      "59.2 µs ± 5.77 µs per loop (mean ± std. dev. of 7 runs, 10000 loops each)\n"
     ]
    }
   ],
   "source": [
    "%timeit np.linalg.inv(R)@p"
   ]
  },
  {
   "cell_type": "code",
   "execution_count": 57,
   "metadata": {},
   "outputs": [
    {
     "name": "stdout",
     "output_type": "stream",
     "text": [
      "27.7 µs ± 2.54 µs per loop (mean ± std. dev. of 7 runs, 10000 loops each)\n"
     ]
    }
   ],
   "source": [
    "%timeit np.linalg.solve(R, p)"
   ]
  },
  {
   "cell_type": "code",
   "execution_count": 58,
   "metadata": {},
   "outputs": [
    {
     "name": "stdout",
     "output_type": "stream",
     "text": [
      "1.43 µs ± 16.3 ns per loop (mean ± std. dev. of 7 runs, 1000000 loops each)\n"
     ]
    }
   ],
   "source": [
    "%timeit back_substitute_diag(S, c)"
   ]
  },
  {
   "cell_type": "code",
   "execution_count": 59,
   "metadata": {},
   "outputs": [
    {
     "name": "stdout",
     "output_type": "stream",
     "text": [
      "34.3 µs ± 4.84 µs per loop (mean ± std. dev. of 7 runs, 10000 loops each)\n"
     ]
    }
   ],
   "source": [
    "%timeit np.linalg.solve(np.diag(S), c)"
   ]
  },
  {
   "cell_type": "code",
   "execution_count": 60,
   "metadata": {},
   "outputs": [
    {
     "name": "stdout",
     "output_type": "stream",
     "text": [
      "True\n",
      "True\n",
      "True\n",
      "True\n"
     ]
    }
   ],
   "source": [
    "###Check if the results are the same\n",
    "#===========================================\n",
    "print(np.allclose(back_substitute(R, p),np.linalg.solve(R, p)))\n",
    "print(np.allclose(back_substitute2(R, p),np.linalg.solve(R, p)))\n",
    "print(np.allclose(np.linalg.inv(R)@p,np.linalg.solve(R, p)))\n",
    "print(np.allclose(back_substitute_diag(S, c),np.linalg.solve(np.diag(S), c)))"
   ]
  },
  {
   "cell_type": "code",
   "execution_count": 15,
   "metadata": {
    "collapsed": true
   },
   "outputs": [],
   "source": [
    "#####Bechmarking\n",
    "#================================\n",
    "import time\n",
    "back_substitute_time = []\n",
    "back_substitute2_time = []\n",
    "back_substitute_diag_time = []\n",
    "la_solve_time = []\n",
    "la_solve_diag_time = []\n",
    "\n",
    "for i in range(len(n_matrix)):\n",
    "    tic1 = time.time()\n",
    "    back_substitute(R_m[i],p_m[i])\n",
    "    toc1 = time.time()\n",
    "    back_substitute_time.append(toc1-tic1)\n",
    "    \n",
    "    tic2 = time.time()\n",
    "    np.linalg.solve(R_m[i],p_m[i])\n",
    "    toc2 = time.time()\n",
    "    la_solve_time.append(toc2-tic2)\n",
    "\n"
   ]
  },
  {
   "cell_type": "code",
   "execution_count": 18,
   "metadata": {},
   "outputs": [
    {
     "data": {
      "image/png": "[encoded data removed]",
      "text/plain": [
       "<Figure size 576x360 with 1 Axes>"
      ]
     },
     "metadata": {},
     "output_type": "display_data"
    }
   ],
   "source": [
    "plt.figure(figsize=(8, 5))\n",
    "plt.plot(n_matrix,back_substitute_time, '-', c = 'r', label = 'back_substitute Time' )\n",
    "plt.plot(n_matrix, la_solve_time, '-', c = 'b', label = 'Numpy Solver')\n",
    "#plt.title('Runtime of Matrix Decomposition and Linear Solver,\\n QR Method', fontsize = 15)\n",
    "plt.ylabel('runtime (seconds)', fontsize=12)\n",
    "plt.xlabel('matrix size (training number)', fontsize=12)\n",
    "plt.legend()\n",
    "plt.savefig('UDFvsNumpy.png')"
   ]
  },
  {
   "cell_type": "code",
   "execution_count": null,
   "metadata": {
    "collapsed": true
   },
   "outputs": [],
   "source": []
  }
 ],
 "metadata": {
  "anaconda-cloud": {},
  "kernelspec": {
   "display_name": "Python [conda env:anaconda3]",
   "language": "python",
   "name": "conda-env-anaconda3-py"
  },
  "language_info": {
   "codemirror_mode": {
    "name": "ipython",
    "version": 3
   },
   "file_extension": ".py",
   "mimetype": "text/x-python",
   "name": "python",
   "nbconvert_exporter": "python",
   "pygments_lexer": "ipython3",
   "version": "3.6.5"
  }
 },
 "nbformat": 4,
 "nbformat_minor": 2
}
